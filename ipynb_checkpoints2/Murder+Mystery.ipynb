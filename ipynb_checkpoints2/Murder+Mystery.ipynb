{
 "cells": [
  {
   "cell_type": "markdown",
   "metadata": {},
   "source": [
    "# Preamble: A Brand new Jay\n",
    "\n",
    "After an eventful season on season 8 of *A Brand New Jay*, the 3 remaining contestants were invited to Jay Stacksby's private island for the last three episodes. When the day of filming the finale came Mr. Stacksby was found with one of his Professional Series 8-inch Chef Knives plunged through his heart! After the initial investigation highlighted that the film crew all lived in a separate house on the other side of the island, it was concluded that only the three contestants were near enough to Stacksby in order to commit a crime. At the scene of the crime, a letter was left. Here are the contents of that letter:\n",
    "\n",
    "> You may call me heartless, a killer, a monster, a murderer, but I'm still NOTHING compared to the villian that Jay was. This whole contest was a sham, an elaborate plot to shame the contestants and feed Jay's massive, massive ego. SURE you think you know him! You've seen him smiling for the cameras, laughing, joking, telling stories, waving his money around like a prop but off camera he was a sinister beast, a cruel cruel taskmaster, he treated all of us like slaves, like cattle, like animals! Do you remember Lindsay, she was the first to go, he called her such horrible things that she cried all night, keeping up all up, crying, crying, and more crying, he broke her with his words. I miss my former cast members, all of them very much. And we had to live with him, live in his home, live in his power, deal with his crazy demands. AND FOR WHAT! DID YOU KNOW THAT THE PRIZE ISN'T REAL? He never intended to marry one of us! The carrot on the stick was gone, all that was left was stick, he told us last night that we were all a terrible terrible disappointment and none of us would ever amount to anything, and that regardless of who won the contest he would never speak to any of us again! It's definitely the things like this you can feel in your gut how wrong he is! Well I showed him, he got what he deserved all right, I showed him, I showed him the person I am! I wasn't going to be pushed around any longer, and I wasn't going to let him go on pretending that he was some saint when all he was was a sick sick twisted man who deserved every bit of what he got. The fans need to know, Jay Stacksby is a vile amalgamation of all things evil and bad and the world is a better place without him.\n",
    "\n",
    "Pretty sinister stuff! Luckily, in addition to this bold-faced admission, we have the introduction letters of the three contestants. Maybe there is a way to use this information to determine who the author of this murder letter is?\n",
    "\n",
    "Myrtle Beech's introduction letter:\n",
    "> Salutations. My name? Myrtle. Myrtle Beech. I am a woman of simple tastes. I enjoy reading, thinking, and doing my taxes. I entered this competition because I want a serious relationship. I want a commitment. The last man I dated was too whimsical. He wanted to go on dates that had no plan. No end goal. Sometimes we would just end up wandering the streets after dinner. He called it a \"walk\". A \"walk\" with no destination. Can you imagine? I like every action I take to have a measurable effect. When I see a movie, I like to walk away with insights that I did not have before. When I take a bike ride, there better be a worthy destination at the end of the bike path. Jay seems frivolous at times. This worries me. However, it is my staunch belief that one does not make and keep money without having a modicum of discipline. As such, I am hopeful. I will now list three things I cannot live without. Water. Emery boards. Dogs. Thank you for the opportunity to introduce myself. I look forward to the competition. \n",
    "\n",
    "Lily Trebuchet's introduction letter:\n",
    "> Hi, I'm Lily Trebuchet from East Egg, Long Island. I love cats, hiking, and curling up under a warm blanket with a book. So they gave this little questionnaire to use for our bios so lets get started. What are some of my least favorite household chores? Dishes, oh yes it's definitely the dishes, I just hate doing them, don't you? Who is your favorite actor and why? Hmm, that's a hard one, but I think recently I'll have to go with Michael B. Jordan, every bit of that man is handsome, HANDSOME! Do you remember seeing him shirtless? I can't believe what he does for the cameras! Okay okay next question, what is your perfect date? Well it starts with a nice dinner at a delicious but small restaurant, you know like one of those places where the owner is in the back and comes out to talk to you and ask you how your meal was. My favorite form of art? Another hard one, but I think I'll have to go with music, music you can feel in your whole body and it is electrifying and best of all, you can dance to it! Okay final question, let's see, What are three things you cannot live without? Well first off, my beautiful, beautiful cat Jerry, he is my heart and spirit animal. Second is pasta, definitely pasta, and the third I think is my family, I love all of them very much and they support me in everything I do. I know Jay Stacksby is a handsome man and all of us want to be the first to walk down the aisle with him, but I think he might truly be the one for me. Okay that's it for the bio, I hope you have fun watching the show! \n",
    "\n",
    "Gregg T Fishy's introduction letter:\n",
    "\n",
    "> A most good day to you all, I am Gregg T Fishy, of the Fishy Enterprise fortune. I am 37 years young, an adventurous spirit and I've never lost my sense of childlike wonder. I do love to be in the backyard gardening and I have the most extraordinary time when I'm fishing. Fishing for what, you might find yourself asking? Why, I happen to always be fishing for compliments of course! I have a stunning pair of radiant blue eyes that will pierce the soul of anyone who dare gaze upon my countenance. I quite enjoy going on long jaunts through garden paths and short walks through greenhouses. I hope that Jay will be as absolutely interesting as he appears on the television, I find that he has some of the most curious tastes in style and humor. When I'm out and about I quite enjoy hearing tales that instill in my heart of hearts the fascination that beguiles my every day life, every fiber of my being scintillates and vascillates with extreme pleasure during one of these charming anecdotes and significantly pleases my beautiful personage. I cannot wait to enjoy being on the television program A Jay To Remember, it certainly seems like a grand time to explore life and love."
   ]
  },
  {
   "cell_type": "markdown",
   "metadata": {},
   "source": [
    "## Saving The Different Examples as Variables\n",
    "\n",
    "First let's create variables to hold the text data in! Save the muder note as a string in a variable called `murder_note`. Save Lily Trebuchet's introduction into `lily_trebuchet_intro`. Save Myrtle Beech's introduction into `myrtle_beech_intro`. Save Gregg T Fishy's introduction into `gregg_t_fishy_intro`."
   ]
  },
  {
   "cell_type": "code",
   "execution_count": 95,
   "metadata": {},
   "outputs": [],
   "source": [
    "murder_note = \"You may call me heartless, a killer, a monster, a murderer, but I'm still NOTHING compared to the villian that Jay was. This whole contest was a sham, an elaborate plot to shame the contestants and feed Jay's massive, massive ego. SURE you think you know him! You've seen him smiling for the cameras, laughing, joking, telling stories, waving his money around like a prop but off camera he was a sinister beast, a cruel cruel taskmaster, he treated all of us like slaves, like cattle, like animals! Do you remember Lindsay, she was the first to go, he called her such horrible things that she cried all night, keeping up all up, crying, crying, and more crying, he broke her with his words. I miss my former cast members, all of them very much. And we had to live with him, live in his home, live in his power, deal with his crazy demands. AND FOR WHAT! DID YOU KNOW THAT THE PRIZE ISN'T REAL? He never intended to marry one of us! The carrot on the stick was gone, all that was left was stick, he told us last night that we were all a terrible terrible disappointment and none of us would ever amount to anything, and that regardless of who won the contest he would never speak to any of us again! It's definitely the things like this you can feel in your gut how wrong he is! Well I showed him, he got what he deserved all right, I showed him, I showed him the person I am! I wasn't going to be pushed around any longer, and I wasn't going to let him go on pretending that he was some saint when all he was was a sick sick twisted man who deserved every bit of what he got. The fans need to know, Jay Stacksby is a vile amalgamation of all things evil and bad and the world is a better place without him.\"\n",
    "lily_trebuchet_intro = \"Hi, I'm Lily Trebuchet from East Egg, Long Island. I love cats, hiking, and curling up under a warm blanket with a book. So they gave this little questionnaire to use for our bios so lets get started. What are some of my least favorite household chores? Dishes, oh yes it's definitely the dishes, I just hate doing them, don't you? Who is your favorite actor and why? Hmm, that's a hard one, but I think recently I'll have to go with Michael B. Jordan, every bit of that man is handsome, HANDSOME! Do you remember seeing him shirtless? I can't believe what he does for the cameras! Okay okay next question, what is your perfect date? Well it starts with a nice dinner at a delicious but small restaurant, you know like one of those places where the owner is in the back and comes out to talk to you and ask you how your meal was. My favorite form of art? Another hard one, but I think I'll have to go with music, music you can feel in your whole body and it is electrifying and best of all, you can dance to it! Okay final question, let's see, What are three things you cannot live without? Well first off, my beautiful, beautiful cat Jerry, he is my heart and spirit animal. Second is pasta, definitely pasta, and the third I think is my family, I love all of them very much and they support me in everything I do. I know Jay Stacksby is a handsome man and all of us want to be the first to walk down the aisle with him, but I think he might truly be the one for me. Okay that's it for the bio, I hope you have fun watching the show!\"\n",
    "myrtle_beech_intro = 'Salutations. My name? Myrtle. Myrtle Beech. I am a woman of simple tastes. I enjoy reading, thinking, and doing my taxes. I entered this competition because I want a serious relationship. I want a commitment. The last man I dated was too whimsical. He wanted to go on dates that had no plan. No end goal. Sometimes we would just end up wandering the streets after dinner. He called it a \"walk\". A \"walk\" with no destination. Can you imagine? I like every action I take to have a measurable effect. When I see a movie, I like to walk away with insights that I did not have before. When I take a bike ride, there better be a worthy destination at the end of the bike path. Jay seems frivolous at times. This worries me. However, it is my staunch belief that one does not make and keep money without having a modicum of discipline. As such, I am hopeful. I will now list three things I cannot live without. Water. Emery boards. Dogs. Thank you for the opportunity to introduce myself. I look forward to the competition.'\n",
    "gregg_t_fishy_intro = \"A most good day to you all, I am Gregg T Fishy, of the Fishy Enterprise fortune. I am 37 years young, an adventurous spirit and I've never lost my sense of childlike wonder. I do love to be in the backyard gardening and I have the most extraordinary time when I'm fishing. Fishing for what, you might find yourself asking? Why, I happen to always be fishing for compliments of course! I have a stunning pair of radiant blue eyes that will pierce the soul of anyone who dare gaze upon my countenance. I quite enjoy going on long jaunts through garden paths and short walks through greenhouses. I hope that Jay will be as absolutely interesting as he appears on the television, I find that he has some of the most curious tastes in style and humor. When I'm out and about I quite enjoy hearing tales that instill in my heart of hearts the fascination that beguiles my every day life, every fiber of my being scintillates and vascillates with extreme pleasure during one of these charming anecdotes and significantly pleases my beautiful personage. I cannot wait to enjoy being on the television program A Jay To Remember, it certainly seems like a grand time to explore life and love.\"\n"
   ]
  },
  {
   "cell_type": "markdown",
   "metadata": {},
   "source": [
    "## The First Indicator: Sentence Length\n",
    "\n",
    "Perhaps some meaningful data can first be gleaned from these text examples if we measure how long the average sentence length is. Different authors have different patterns of written speech, so this could be very useful in tracking down the killer.\n",
    "\n",
    "Write a function `get_average_sentence_length` that takes some `text` as an argument. This function should return the average length of a sentence in the text.\n",
    "\n",
    "Hint (highlight this hint in order to reveal it): \n",
    "Use your knowledge of _string methods_ to create a list of all of the sentences in a text, called **sentences_in_text**. \n",
    "Further break up each **sentences_in_text** into a list of words and save the _length_ of that list of words to a new list that contains all the sentence lengths, called **sentence_lengths**. Take the average of all of the sentence lengths by adding them all together and dividing by the number of sentences (which should be the same as the length of the **sentence_lengths**).\n",
    "\n",
    "Remember sentences can end with more than one kind of punctuation, you might find it easiest to use **.replace()** so you only have to split on one punctuation mark. Remember **.replace()** doesn't modify the string itself, it returns a new string!</font>"
   ]
  },
  {
   "cell_type": "code",
   "execution_count": 96,
   "metadata": {},
   "outputs": [
    {
     "name": "stdout",
     "output_type": "stream",
     "text": [
      "22.07\n",
      "15.84\n",
      "6.75\n",
      "21.30\n"
     ]
    }
   ],
   "source": [
    "def get_average_sentence_length(text):\n",
    "    sentences_in_text=[]\n",
    "    words = []\n",
    "    text_dot = text.replace(\"!\", \".\").replace(\"?\", \".\")\n",
    "    text_without_comma = text_dot.replace(\",\", \"\")\n",
    "    sentences_in_text = text_without_comma.split(\". \")\n",
    "    words = text_without_comma.split(\" \")\n",
    "    average = len(words)/len(sentences_in_text)\n",
    "    return round(average, 2)\n",
    "get_average_sentence_length(murder_note) \n",
    "\n",
    "#another option:\n",
    "def get_average_sentence_length1(text):\n",
    "    text_dot = text.replace(\"!\", \".\")\n",
    "    text_with_dots = text_dot.replace(\"?\", \".\")\n",
    "    text_without_comma = text_with_dots.replace(\",\", \"\")\n",
    "    sentences_in_text = len(text_without_comma.split(\". \"))\n",
    "    text_without_comma = text_without_comma.replace(\".\",\"\")\n",
    "    words_in_text = len(text_without_comma.split(\" \"))\n",
    "    return words_in_text/sentences_in_text\n",
    "\n",
    "#another option:    \n",
    "def get_average_sentence_length2(text):  \n",
    "    text = text.replace(\"!\",\".\").replace(\"?\",\".\").replace(\",\",\"\")\n",
    "    sentcs = len(text.split(\". \"))\n",
    "    words = len(text.replace(\".\", \"\").split(\" \"))\n",
    "    return words/sentcs\n",
    "    \n",
    "#print(\"%.2f\" % get_average_sentence_length(murder_note))\n",
    "#print(\"%.2f\" % get_average_sentence_length1(murder_note))\n",
    "print(\"%.2f\" % get_average_sentence_length2(murder_note))\n",
    "print(\"%.2f\" % get_average_sentence_length2(lily_trebuchet_intro))\n",
    "print(\"%.2f\" % get_average_sentence_length2(myrtle_beech_intro))\n",
    "print(\"%.2f\" % get_average_sentence_length2(gregg_t_fishy_intro))\n",
    "\n"
   ]
  },
  {
   "cell_type": "markdown",
   "metadata": {},
   "source": [
    "## Creating The Definition for Our Model\n",
    "\n",
    "Now that we have a metric we want to save and data that is coupled with that metric, it might be time to create our data type. Let's define a class called `TextSample` with a constructor. The constructor should take two arguments: `text` and `author`. `text` should be saved as `self.raw_text`. Call `get_average_sentence_length` with the raw text and save it to `self.average_sentence_length`. You should save the author of the text as `self.author`.\n",
    "\n",
    "Additionally, define a string representation for the model. If you print a `TextSample` it should render:\n",
    " - The author's name\n",
    " - The average sentence length\n",
    " \n",
    "This will be your main class for the problem at hand. All later instruction to update `TextSample` should be done in the code block below. After updating `TextSample`, click on the `Cell` option in the Jupyter Notebook main menu above, then click `Run All` to rerun the cells from top to bottom. If you need to restart your Jupyter Notebook either run the cells below first or move the `TextSample` class definition & instantiation cells to the bottom."
   ]
  },
  {
   "cell_type": "code",
   "execution_count": 97,
   "metadata": {},
   "outputs": [],
   "source": [
    "class TextSample:\n",
    "    word_count_frequency = None\n",
    "    prepared_text = None\n",
    "    ngram_frequency = None\n",
    "    def __init__(self, text, author):\n",
    "        self.raw_text = text\n",
    "        self.average_sentence_length = get_average_sentence_length(self.raw_text)\n",
    "        self.author = author\n",
    "        \n",
    "        \n",
    "        \n",
    "    def __repr__(self):\n",
    "      return self.author +\": \"+str(self.average_sentence_length)   \n",
    "    \n",
    "        "
   ]
  },
  {
   "cell_type": "markdown",
   "metadata": {},
   "source": [
    "### Creating our TextSample Instances\n",
    "\n",
    "Now create a `TextSample` object for each of the samples of text that we have.\n",
    " - `murderer_sample` for the murderer's note.\n",
    " - `lily_sample` for Lily Trebuchet's note.\n",
    " - `myrtle_sample` for Myrtle Beech's note.\n",
    " - `gregg_sample` for Gregg T Fishy's note.\n",
    " \n",
    "Print out each one after instantiating them."
   ]
  },
  {
   "cell_type": "code",
   "execution_count": 98,
   "metadata": {},
   "outputs": [
    {
     "name": "stdout",
     "output_type": "stream",
     "text": [
      "murderer: 22.07\n",
      "Lily: 15.84\n",
      "Myrtle: 6.75\n",
      "Gregg: 21.3\n"
     ]
    }
   ],
   "source": [
    "murderer_sample = TextSample(murder_note, \"murderer\")\n",
    "lily_sample = TextSample(lily_trebuchet_intro, \"Lily\")\n",
    "myrtle_sample = TextSample(myrtle_beech_intro, \"Myrtle\")\n",
    "gregg_sample = TextSample(gregg_t_fishy_intro, \"Gregg\")\n",
    "\n",
    "print(murderer_sample)\n",
    "print(lily_sample)\n",
    "print(myrtle_sample)\n",
    "print(gregg_sample)"
   ]
  },
  {
   "cell_type": "markdown",
   "metadata": {},
   "source": [
    "## Cleaning Our Data\n",
    "\n",
    "We want to compare the word choice and usage between the samples, but sentences make our text data fairly messy. In order to analyze the different messages fairly, we'll need to remove all the punctuation and uppercase letters from the samples.\n",
    "\n",
    "Create a function called `prepare_text` that takes a single parameter `text`, makes the text entirely lowercase, removes all the punctuation and returns a list of the words in the text in order.\n",
    "\n",
    "For example: `\"Where did you go, friend? We nearly saw each other.\"` would become `['where', 'did', 'you', 'go', 'friend', 'we', 'nearly', 'saw', 'each', 'other']`."
   ]
  },
  {
   "cell_type": "code",
   "execution_count": 99,
   "metadata": {},
   "outputs": [
    {
     "name": "stdout",
     "output_type": "stream",
     "text": [
      "['you', 'may', 'call', 'me', 'heartless', 'a', 'killer', 'a', 'monster', 'a', 'murderer', 'but', \"i'm\", 'still', 'nothing', 'compared', 'to', 'the', 'villian', 'that', 'jay', 'was', 'this', 'whole', 'contest', 'was', 'a', 'sham', 'an', 'elaborate', 'plot', 'to', 'shame', 'the', 'contestants', 'and', 'feed', \"jay's\", 'massive', 'massive', 'ego', 'sure', 'you', 'think', 'you', 'know', 'him', \"you've\", 'seen', 'him', 'smiling', 'for', 'the', 'cameras', 'laughing', 'joking', 'telling', 'stories', 'waving', 'his', 'money', 'around', 'like', 'a', 'prop', 'but', 'off', 'camera', 'he', 'was', 'a', 'sinister', 'beast', 'a', 'cruel', 'cruel', 'taskmaster', 'he', 'treated', 'all', 'of', 'us', 'like', 'slaves', 'like', 'cattle', 'like', 'animals', 'do', 'you', 'remember', 'lindsay', 'she', 'was', 'the', 'first', 'to', 'go', 'he', 'called', 'her', 'such', 'horrible', 'things', 'that', 'she', 'cried', 'all', 'night', 'keeping', 'up', 'all', 'up', 'crying', 'crying', 'and', 'more', 'crying', 'he', 'broke', 'her', 'with', 'his', 'words', 'i', 'miss', 'my', 'former', 'cast', 'members', 'all', 'of', 'them', 'very', 'much', 'and', 'we', 'had', 'to', 'live', 'with', 'him', 'live', 'in', 'his', 'home', 'live', 'in', 'his', 'power', 'deal', 'with', 'his', 'crazy', 'demands', 'and', 'for', 'what', 'did', 'you', 'know', 'that', 'the', 'prize', \"isn't\", 'real', 'he', 'never', 'intended', 'to', 'marry', 'one', 'of', 'us', 'the', 'carrot', 'on', 'the', 'stick', 'was', 'gone', 'all', 'that', 'was', 'left', 'was', 'stick', 'he', 'told', 'us', 'last', 'night', 'that', 'we', 'were', 'all', 'a', 'terrible', 'terrible', 'disappointment', 'and', 'none', 'of', 'us', 'would', 'ever', 'amount', 'to', 'anything', 'and', 'that', 'regardless', 'of', 'who', 'won', 'the', 'contest', 'he', 'would', 'never', 'speak', 'to', 'any', 'of', 'us', 'again', \"it's\", 'definitely', 'the', 'things', 'like', 'this', 'you', 'can', 'feel', 'in', 'your', 'gut', 'how', 'wrong', 'he', 'is', 'well', 'i', 'showed', 'him', 'he', 'got', 'what', 'he', 'deserved', 'all', 'right', 'i', 'showed', 'him', 'i', 'showed', 'him', 'the', 'person', 'i', 'am', 'i', \"wasn't\", 'going', 'to', 'be', 'pushed', 'around', 'any', 'longer', 'and', 'i', \"wasn't\", 'going', 'to', 'let', 'him', 'go', 'on', 'pretending', 'that', 'he', 'was', 'some', 'saint', 'when', 'all', 'he', 'was', 'was', 'a', 'sick', 'sick', 'twisted', 'man', 'who', 'deserved', 'every', 'bit', 'of', 'what', 'he', 'got', 'the', 'fans', 'need', 'to', 'know', 'jay', 'stacksby', 'is', 'a', 'vile', 'amalgamation', 'of', 'all', 'things', 'evil', 'and', 'bad', 'and', 'the', 'world', 'is', 'a', 'better', 'place', 'without', 'him']\n"
     ]
    }
   ],
   "source": [
    "def prepare_text(text):\n",
    "    text = text.lower().replace(\"!\",\"\").replace(\"?\",\"\").replace(\",\",\"\").replace(\".\",\"\")\n",
    "    return text.split(\" \")\n",
    "print(prepare_text(murder_note)) \n",
    "murderer_sample.prepared_text = prepare_text(murder_note)\n",
    "lily_sample.prepared_text = prepare_text(lily_trebuchet_intro)\n",
    "myrtle_sample.prepared_text = prepare_text(myrtle_beech_intro)\n",
    "gregg_sample.prepared_text = prepare_text(gregg_t_fishy_intro)"
   ]
  },
  {
   "cell_type": "markdown",
   "metadata": {},
   "source": [
    "Update the constructor for `TextSample` to save the prepared text as `self.prepared_text`."
   ]
  },
  {
   "cell_type": "markdown",
   "metadata": {},
   "source": [
    "## Building A Frequency Table\n",
    "\n",
    "Now we want to see which words were most frequently used in each of the samples. Create a function called `build_frequency_table`. It takes in a list called `corpus` and creates a dictionary called `frequency_table`. For every element in `corpus` the value `frequency_table[element]` should be equal to the number of times that element appears in `corpus`. For example the input `['do', 'you', 'see', 'what', 'i', 'see']` would create the frequency table `{'what': 1, 'you': 1, 'see' 2, 'i': 1}`."
   ]
  },
  {
   "cell_type": "code",
   "execution_count": 100,
   "metadata": {},
   "outputs": [
    {
     "name": "stdout",
     "output_type": "stream",
     "text": [
      "{'salutations': 1, 'my': 3, 'name': 1, 'myrtle': 2, 'beech': 1, 'i': 16, 'am': 2, 'a': 10, 'woman': 1, 'of': 3, 'simple': 1, 'tastes': 1, 'enjoy': 1, 'reading': 1, 'thinking': 1, 'and': 2, 'doing': 1, 'taxes': 1, 'entered': 1, 'this': 2, 'competition': 2, 'because': 1, 'want': 2, 'serious': 1, 'relationship': 1, 'commitment': 1, 'the': 6, 'last': 1, 'man': 1, 'dated': 1, 'was': 1, 'too': 1, 'whimsical': 1, 'he': 2, 'wanted': 1, 'to': 5, 'go': 1, 'on': 1, 'dates': 1, 'that': 3, 'had': 1, 'no': 3, 'plan': 1, 'end': 3, 'goal': 1, 'sometimes': 1, 'we': 1, 'would': 1, 'just': 1, 'up': 1, 'wandering': 1, 'streets': 1, 'after': 1, 'dinner': 1, 'called': 1, 'it': 2, '\"walk\"': 2, 'with': 2, 'destination': 2, 'can': 1, 'you': 2, 'imagine': 1, 'like': 2, 'every': 1, 'action': 1, 'take': 2, 'have': 2, 'measurable': 1, 'effect': 1, 'when': 2, 'see': 1, 'movie': 1, 'walk': 1, 'away': 1, 'insights': 1, 'did': 1, 'not': 2, 'before': 1, 'bike': 2, 'ride': 1, 'there': 1, 'better': 1, 'be': 1, 'worthy': 1, 'at': 2, 'path': 1, 'jay': 1, 'seems': 1, 'frivolous': 1, 'times': 1, 'worries': 1, 'me': 1, 'however': 1, 'is': 1, 'staunch': 1, 'belief': 1, 'one': 1, 'does': 1, 'make': 1, 'keep': 1, 'money': 1, 'without': 2, 'having': 1, 'modicum': 1, 'discipline': 1, 'as': 1, 'such': 1, 'hopeful': 1, 'will': 1, 'now': 1, 'list': 1, 'three': 1, 'things': 1, 'cannot': 1, 'live': 1, 'water': 1, 'emery': 1, 'boards': 1, 'dogs': 1, 'thank': 1, 'for': 1, 'opportunity': 1, 'introduce': 1, 'myself': 1, 'look': 1, 'forward': 1}\n"
     ]
    }
   ],
   "source": [
    "def build_frequency_table(corpus):\n",
    "    frequency_table={}\n",
    "    for w in corpus:\n",
    "        if w in frequency_table.keys():\n",
    "            frequency_table[w]= frequency_table[w]+1\n",
    "        else:\n",
    "            frequency_table[w] = 1\n",
    "    return frequency_table\n",
    "\n",
    "#print(build_frequency_table(prepare_text(murder_note)))\n",
    "murderer_sample.word_count_frequency = build_frequency_table(murderer_sample.prepared_text)\n",
    "lily_sample.word_count_frequency = build_frequency_table(lily_sample.prepared_text)\n",
    "myrtle_sample.word_count_frequency = build_frequency_table(myrtle_sample.prepared_text)\n",
    "gregg_sample.word_count_frequency = build_frequency_table(gregg_sample.prepared_text)\n",
    "print(myrtle_sample.word_count_frequency)"
   ]
  },
  {
   "cell_type": "markdown",
   "metadata": {},
   "source": [
    "## The Second Indicator: Favorite Words\n",
    "\n",
    "Use `build_frequency_table` with the prepared text to create a frequency table that counts how frequently all the words in each text sample appears. Call these functions in the constructor for `TextSample` and assign the word frequency table to a value called `self.word_count_frequency`."
   ]
  },
  {
   "cell_type": "markdown",
   "metadata": {},
   "source": [
    "## The Third Indicator: N-Grams\n",
    "\n",
    "An <a href='https://en.wikipedia.org/wiki/N-gram' target=\"_blank\">n-gram</a> is a text analysis technique used for pattern recognition and applicable throughout lingusitics. We're going to use n-grams to find who uses similar word-pairs to the murderer, and we think it's going to make our evidence strong enough to conclusively find the killer.\n",
    "\n",
    "Create a function called `ngram_creator` that takes a parameter `text_list`, a treated in-order list of the words in a text sample. `ngram_creator` should return a list of all adjacent pairs of words, styled as strings with a space in the center.\n",
    "\n",
    "For instance, calling `ngram_creator` with the input `['what', 'in', 'the', 'world', 'is', 'going', 'on']`\n",
    "Should produce the output `['what in', 'in the', 'the world', 'world is', 'is going', 'going on']`.\n",
    "\n",
    "These are two-word n-grams."
   ]
  },
  {
   "cell_type": "code",
   "execution_count": 101,
   "metadata": {},
   "outputs": [
    {
     "name": "stdout",
     "output_type": "stream",
     "text": [
      "['a most', 'most good', 'good day', 'day to', 'to you', 'you all', 'all i', 'i am', 'am gregg', 'gregg t', 't fishy', 'fishy of', 'of the', 'the fishy', 'fishy enterprise', 'enterprise fortune', 'fortune i', 'i am', 'am 37', '37 years', 'years young', 'young an', 'an adventurous', 'adventurous spirit', 'spirit and', \"and i've\", \"i've never\", 'never lost', 'lost my', 'my sense', 'sense of', 'of childlike', 'childlike wonder', 'wonder i', 'i do', 'do love', 'love to', 'to be', 'be in', 'in the', 'the backyard', 'backyard gardening', 'gardening and', 'and i', 'i have', 'have the', 'the most', 'most extraordinary', 'extraordinary time', 'time when', \"when i'm\", \"i'm fishing\", 'fishing fishing', 'fishing for', 'for what', 'what you', 'you might', 'might find', 'find yourself', 'yourself asking', 'asking why', 'why i', 'i happen', 'happen to', 'to always', 'always be', 'be fishing', 'fishing for', 'for compliments', 'compliments of', 'of course', 'course i', 'i have', 'have a', 'a stunning', 'stunning pair', 'pair of', 'of radiant', 'radiant blue', 'blue eyes', 'eyes that', 'that will', 'will pierce', 'pierce the', 'the soul', 'soul of', 'of anyone', 'anyone who', 'who dare', 'dare gaze', 'gaze upon', 'upon my', 'my countenance', 'countenance i', 'i quite', 'quite enjoy', 'enjoy going', 'going on', 'on long', 'long jaunts', 'jaunts through', 'through garden', 'garden paths', 'paths and', 'and short', 'short walks', 'walks through', 'through greenhouses', 'greenhouses i', 'i hope', 'hope that', 'that jay', 'jay will', 'will be', 'be as', 'as absolutely', 'absolutely interesting', 'interesting as', 'as he', 'he appears', 'appears on', 'on the', 'the television', 'television i', 'i find', 'find that', 'that he', 'he has', 'has some', 'some of', 'of the', 'the most', 'most curious', 'curious tastes', 'tastes in', 'in style', 'style and', 'and humor', 'humor when', \"when i'm\", \"i'm out\", 'out and', 'and about', 'about i', 'i quite', 'quite enjoy', 'enjoy hearing', 'hearing tales', 'tales that', 'that instill', 'instill in', 'in my', 'my heart', 'heart of', 'of hearts', 'hearts the', 'the fascination', 'fascination that', 'that beguiles', 'beguiles my', 'my every', 'every day', 'day life', 'life every', 'every fiber', 'fiber of', 'of my', 'my being', 'being scintillates', 'scintillates and', 'and vascillates', 'vascillates with', 'with extreme', 'extreme pleasure', 'pleasure during', 'during one', 'one of', 'of these', 'these charming', 'charming anecdotes', 'anecdotes and', 'and significantly', 'significantly pleases', 'pleases my', 'my beautiful', 'beautiful personage', 'personage i', 'i cannot', 'cannot wait', 'wait to', 'to enjoy', 'enjoy being', 'being on', 'on the', 'the television', 'television program', 'program a', 'a jay', 'jay to', 'to remember', 'remember it', 'it certainly', 'certainly seems', 'seems like', 'like a', 'a grand', 'grand time', 'time to', 'to explore', 'explore life', 'life and', 'and love']\n",
      "{'a most': 1, 'most good': 1, 'good day': 1, 'day to': 1, 'to you': 1, 'you all': 1, 'all i': 1, 'i am': 2, 'am gregg': 1, 'gregg t': 1, 't fishy': 1, 'fishy of': 1, 'of the': 2, 'the fishy': 1, 'fishy enterprise': 1, 'enterprise fortune': 1, 'fortune i': 1, 'am 37': 1, '37 years': 1, 'years young': 1, 'young an': 1, 'an adventurous': 1, 'adventurous spirit': 1, 'spirit and': 1, \"and i've\": 1, \"i've never\": 1, 'never lost': 1, 'lost my': 1, 'my sense': 1, 'sense of': 1, 'of childlike': 1, 'childlike wonder': 1, 'wonder i': 1, 'i do': 1, 'do love': 1, 'love to': 1, 'to be': 1, 'be in': 1, 'in the': 1, 'the backyard': 1, 'backyard gardening': 1, 'gardening and': 1, 'and i': 1, 'i have': 2, 'have the': 1, 'the most': 2, 'most extraordinary': 1, 'extraordinary time': 1, 'time when': 1, \"when i'm\": 2, \"i'm fishing\": 1, 'fishing fishing': 1, 'fishing for': 2, 'for what': 1, 'what you': 1, 'you might': 1, 'might find': 1, 'find yourself': 1, 'yourself asking': 1, 'asking why': 1, 'why i': 1, 'i happen': 1, 'happen to': 1, 'to always': 1, 'always be': 1, 'be fishing': 1, 'for compliments': 1, 'compliments of': 1, 'of course': 1, 'course i': 1, 'have a': 1, 'a stunning': 1, 'stunning pair': 1, 'pair of': 1, 'of radiant': 1, 'radiant blue': 1, 'blue eyes': 1, 'eyes that': 1, 'that will': 1, 'will pierce': 1, 'pierce the': 1, 'the soul': 1, 'soul of': 1, 'of anyone': 1, 'anyone who': 1, 'who dare': 1, 'dare gaze': 1, 'gaze upon': 1, 'upon my': 1, 'my countenance': 1, 'countenance i': 1, 'i quite': 2, 'quite enjoy': 2, 'enjoy going': 1, 'going on': 1, 'on long': 1, 'long jaunts': 1, 'jaunts through': 1, 'through garden': 1, 'garden paths': 1, 'paths and': 1, 'and short': 1, 'short walks': 1, 'walks through': 1, 'through greenhouses': 1, 'greenhouses i': 1, 'i hope': 1, 'hope that': 1, 'that jay': 1, 'jay will': 1, 'will be': 1, 'be as': 1, 'as absolutely': 1, 'absolutely interesting': 1, 'interesting as': 1, 'as he': 1, 'he appears': 1, 'appears on': 1, 'on the': 2, 'the television': 2, 'television i': 1, 'i find': 1, 'find that': 1, 'that he': 1, 'he has': 1, 'has some': 1, 'some of': 1, 'most curious': 1, 'curious tastes': 1, 'tastes in': 1, 'in style': 1, 'style and': 1, 'and humor': 1, 'humor when': 1, \"i'm out\": 1, 'out and': 1, 'and about': 1, 'about i': 1, 'enjoy hearing': 1, 'hearing tales': 1, 'tales that': 1, 'that instill': 1, 'instill in': 1, 'in my': 1, 'my heart': 1, 'heart of': 1, 'of hearts': 1, 'hearts the': 1, 'the fascination': 1, 'fascination that': 1, 'that beguiles': 1, 'beguiles my': 1, 'my every': 1, 'every day': 1, 'day life': 1, 'life every': 1, 'every fiber': 1, 'fiber of': 1, 'of my': 1, 'my being': 1, 'being scintillates': 1, 'scintillates and': 1, 'and vascillates': 1, 'vascillates with': 1, 'with extreme': 1, 'extreme pleasure': 1, 'pleasure during': 1, 'during one': 1, 'one of': 1, 'of these': 1, 'these charming': 1, 'charming anecdotes': 1, 'anecdotes and': 1, 'and significantly': 1, 'significantly pleases': 1, 'pleases my': 1, 'my beautiful': 1, 'beautiful personage': 1, 'personage i': 1, 'i cannot': 1, 'cannot wait': 1, 'wait to': 1, 'to enjoy': 1, 'enjoy being': 1, 'being on': 1, 'television program': 1, 'program a': 1, 'a jay': 1, 'jay to': 1, 'to remember': 1, 'remember it': 1, 'it certainly': 1, 'certainly seems': 1, 'seems like': 1, 'like a': 1, 'a grand': 1, 'grand time': 1, 'time to': 1, 'to explore': 1, 'explore life': 1, 'life and': 1, 'and love': 1}\n"
     ]
    }
   ],
   "source": [
    "def ngram_creator (text_list):\n",
    "    lst = []\n",
    "    index = 0\n",
    "    while index <= len(text_list)-2:\n",
    "        lst.append(text_list[index]+\" \"+text_list[index+1])\n",
    "        index+=1\n",
    "    return lst\n",
    "#print(ngram_creator(prepare_text(murder_note)))\n",
    "\n",
    "murderer_sample.ngram_frequency = ngram_creator(murderer_sample.prepared_text)\n",
    "lily_sample.ngram_frequency = ngram_creator(lily_sample.prepared_text)\n",
    "myrtle_sample.ngram_frequency = ngram_creator(myrtle_sample.prepared_text)\n",
    "gregg_sample.ngram_frequency = ngram_creator(gregg_sample.prepared_text)\n",
    "\n",
    "print(gregg_sample.ngram_frequency)    \n",
    "\n",
    "murderer_sample.ngram_frequency = build_frequency_table(ngram_creator(murderer_sample.prepared_text))\n",
    "lily_sample.ngram_frequency = build_frequency_table(ngram_creator(lily_sample.prepared_text))\n",
    "myrtle_sample.ngram_frequency = build_frequency_table(ngram_creator(myrtle_sample.prepared_text))\n",
    "gregg_sample.ngram_frequency = build_frequency_table(ngram_creator(gregg_sample.prepared_text))\n",
    "print(gregg_sample.ngram_frequency)"
   ]
  },
  {
   "cell_type": "markdown",
   "metadata": {},
   "source": [
    "Use `ngram_creator` along with the prepared text to create a list of all the two-word ngrams in each `TextSample`. Use `build_frequency_table` to tabulate the frequency of each ngram. In the constructor for `TextSample` save this frequency table as `self.ngram_frequency`."
   ]
  },
  {
   "cell_type": "markdown",
   "metadata": {},
   "source": [
    "## Comparing Two Frequency Tables\n",
    "\n",
    "We want to know how similar two frequency tables are, let's write a function that computes the comparison between two frequency tables and scores them based on similarity.\n",
    "\n",
    "Write a function called `frequency_comparison` that takes two parameters, `table1` and `table2`. It should define two local variables, `appearances` and `mutual_appearances`. \n",
    "\n",
    "Iterate through `table1`'s keys and check if `table2` has the same key defined. If it is, compare the two values for the key -- the smaller value should get added to `mutual_appearances` and the larger should get added to `appearances`. If the key doesn't exist in `table2` the value for the key in `table1` should be added to `appearances`.\n",
    "\n",
    "Remember afterwards to iterate through all of `table2`'s keys that aren't in `table1` and add those to `appearances` as well.\n",
    "\n",
    "Return a frequency comparison score equal to the mutual appearances divided by the total appearances."
   ]
  },
  {
   "cell_type": "code",
   "execution_count": 102,
   "metadata": {},
   "outputs": [
    {
     "name": "stdout",
     "output_type": "stream",
     "text": [
      "0.3260\n",
      "0.2868\n",
      "0.2906\n"
     ]
    }
   ],
   "source": [
    "def frequency_comparison(table1, table2):\n",
    "    mutual_appearances = 0\n",
    "    appearances = 0\n",
    "    for k in table1.keys():\n",
    "        if k in table2.keys():\n",
    "            mutual_appearances += min(table1[k], table2[k])\n",
    "            appearances += max(table1[k], table2[k])\n",
    "        elif k not in table1.keys():   \n",
    "            appearances += table1[k]\n",
    "    for l in table2.keys():\n",
    "        if l not in table1.keys():\n",
    "            appearances += table2[l]\n",
    "    return  mutual_appearances/appearances   \n",
    "print(\"%.4f\" % frequency_comparison(murderer_sample.word_count_frequency,lily_sample.word_count_frequency))\n",
    "print(\"%.4f\" %frequency_comparison(murderer_sample.word_count_frequency,myrtle_sample.word_count_frequency))\n",
    "print(\"%.4f\" %frequency_comparison(murderer_sample.word_count_frequency,gregg_sample.word_count_frequency))\n",
    "            "
   ]
  },
  {
   "cell_type": "markdown",
   "metadata": {},
   "source": [
    "## Comparing Average Sentence Length\n",
    "\n",
    "In order to calculate the change between the average sentence lengths of two `TextSamples` we're going to use the formula for the percent difference.\n",
    "\n",
    "Write a function called `percent_difference` that returns the percent difference as calculated from the following formula:\n",
    "\n",
    "$$\\frac{|\\ value1 - value2\\ |}{\\frac{value1 + value2}{2}}$$\n",
    "\n",
    "In the numerator is the absolute value (use `abs()`) of the two values subtracted from each other. In the denominator is the average of the two values (value1 + value2 divided by two)."
   ]
  },
  {
   "cell_type": "code",
   "execution_count": 103,
   "metadata": {},
   "outputs": [
    {
     "name": "stdout",
     "output_type": "stream",
     "text": [
      "32.87%\n"
     ]
    }
   ],
   "source": [
    "def percent_difference(value1, value2):\n",
    "    return (abs(value1 - value2))/((value1 + value2)/2)\n",
    "print(str(\"%.2f\" %(percent_difference(murderer_sample.average_sentence_length,lily_sample.average_sentence_length)*100)) +\"%\")"
   ]
  },
  {
   "cell_type": "markdown",
   "metadata": {},
   "source": [
    "## Scoring Similarity with All Three Indicators\n",
    "\n",
    "We want to figure out who did it, so let's use all three of the indicators we built to score text similarity. Define a function `find_text_similarity` that takes two `TextSample` arguments and returns a float between 0 and 1 where 0 means completely different and 1 means the same exact sample. You can evaluate the similarity by the following criteria:\n",
    "\n",
    "- Calculate the percent difference of their average sentence length using `percent_difference`. Save that into a variable called `sentence_length_difference`. Since we want to find how _similar_ the two passages are calculate the inverse of `sentence_length_difference` by using the formula `abs(1 - sentence_length_difference)`. Save that into a variable called `sentence_length_similarity`.\n",
    "- Calculate the difference between their word usage using `frequency_comparison` on both `TextSample`'s `word_count_frequency` attributes. Save that into a variable called `word_count_similarity`.\n",
    "- Calculate the difference between their two-word ngram using `frequency_table` on both `TextSample`'s `ngram_frequency` attributes. Save that into a variable called `ngram_similarity`.\n",
    "- Add all three similarities together and divide by 3."
   ]
  },
  {
   "cell_type": "code",
   "execution_count": 107,
   "metadata": {},
   "outputs": [
    {
     "name": "stdout",
     "output_type": "stream",
     "text": [
      "0.37\n",
      "0.13\n",
      "0.43\n"
     ]
    }
   ],
   "source": [
    "def find_text_similarity(textsample1, textsample2):\n",
    "    sentence_length_difference = percent_difference(textsample1.average_sentence_length, textsample2.average_sentence_length)\n",
    "    sentence_length_similarity = abs(1-sentence_length_difference)\n",
    "    \n",
    "    word_count_similarity = frequency_comparison(textsample1.word_count_frequency, textsample2.word_count_frequency)\n",
    "    \n",
    "    ngram_similarity = frequency_comparison(textsample1.ngram_frequency, textsample2.ngram_frequency)\n",
    "    \n",
    "    return(sentence_length_similarity + word_count_similarity + ngram_similarity)/3\n",
    "print(\"%.2f\" %find_text_similarity(murderer_sample,lily_sample))\n",
    "print(\"%.2f\" %find_text_similarity(murderer_sample,myrtle_sample))\n",
    "print(\"%.2f\" %find_text_similarity(murderer_sample,gregg_sample))\n"
   ]
  },
  {
   "cell_type": "markdown",
   "metadata": {},
   "source": [
    "## Rendering the Results\n",
    "\n",
    "We want to print out the results in a way that we can read! For each contestant on _A Brand New Jay_ print out the following:\n",
    "\n",
    "- Their name\n",
    "- Their similarity score to the murder letter"
   ]
  },
  {
   "cell_type": "code",
   "execution_count": 108,
   "metadata": {
    "scrolled": false
   },
   "outputs": [
    {
     "name": "stdout",
     "output_type": "stream",
     "text": [
      "Lily: 0.3694884450220628\n",
      "Myrtle: 0.12729572963717498\n",
      "Gregg: 0.43250348398959954\n"
     ]
    }
   ],
   "source": [
    "print(lily_sample.author + \": \"+ str(find_text_similarity(murderer_sample,lily_sample)))\n",
    "print(myrtle_sample.author + \": \"+ str(find_text_similarity(murderer_sample,myrtle_sample)))\n",
    "print(gregg_sample.author + \": \"+ str(find_text_similarity(murderer_sample,gregg_sample)))"
   ]
  },
  {
   "cell_type": "markdown",
   "metadata": {},
   "source": [
    "# Who Dunnit?\n",
    "\n",
    "In the cell below, print the name of the person who killed Jay Stacksby."
   ]
  },
  {
   "cell_type": "code",
   "execution_count": 109,
   "metadata": {},
   "outputs": [
    {
     "name": "stdout",
     "output_type": "stream",
     "text": [
      "Gregg\n"
     ]
    }
   ],
   "source": [
    "print(lily_sample.author if find_text_similarity(murderer_sample,lily_sample) > find_text_similarity(murderer_sample,myrtle_sample) \n",
    "                            and find_text_similarity(murderer_sample,lily_sample) > find_text_similarity(murderer_sample,gregg_sample)\n",
    "                         else myrtle_sample.author if find_text_similarity(murderer_sample,myrtle_sample) > find_text_similarity(murderer_sample,gregg_sample)\n",
    "                         else gregg_sample.author)"
   ]
  },
  {
   "cell_type": "code",
   "execution_count": null,
   "metadata": {},
   "outputs": [],
   "source": []
  }
 ],
 "metadata": {
  "kernelspec": {
   "display_name": "Python 3",
   "language": "python",
   "name": "python3"
  },
  "language_info": {
   "codemirror_mode": {
    "name": "ipython",
    "version": 3
   },
   "file_extension": ".py",
   "mimetype": "text/x-python",
   "name": "python",
   "nbconvert_exporter": "python",
   "pygments_lexer": "ipython3",
   "version": "3.6.4"
  }
 },
 "nbformat": 4,
 "nbformat_minor": 2
}
